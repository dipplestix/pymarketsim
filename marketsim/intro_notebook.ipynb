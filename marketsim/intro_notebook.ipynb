{
 "cells": [
  {
   "cell_type": "code",
   "execution_count": 1,
   "id": "initial_id",
   "metadata": {
    "ExecuteTime": {
     "end_time": "2024-02-15T04:09:48.703057400Z",
     "start_time": "2024-02-15T04:09:48.664059300Z"
    },
    "collapsed": true
   },
   "outputs": [],
   "source": [
    "from fourheap.fourheap import FourHeap\n",
    "from fourheap.order import Order\n",
    "from fourheap.constants import BUY, SELL"
   ]
  },
  {
   "cell_type": "code",
   "execution_count": 2,
   "id": "94fd9db23a88d5c5",
   "metadata": {
    "ExecuteTime": {
     "end_time": "2024-02-15T04:09:49.138070Z",
     "start_time": "2024-02-15T04:09:49.136069300Z"
    },
    "collapsed": false
   },
   "outputs": [],
   "source": [
    "# Let's start with order\n",
    "\n",
    "order1 = Order(price=12, order_type=BUY, quantity=12, time=1, agent_id=1, order_id=1)\n",
    "order2 = Order(price=32, order_type=SELL, quantity=22, time=1, agent_id=1, order_id=2)\n",
    "order3 = Order(price=7, order_type=SELL, quantity=7, time=1, agent_id=1, order_id=3)\n",
    "order4 = Order(price=9, order_type=SELL, quantity=8, time=1, agent_id=1, order_id=4)"
   ]
  },
  {
   "cell_type": "code",
   "execution_count": 3,
   "id": "cc7b3ae1ebf76ee1",
   "metadata": {
    "ExecuteTime": {
     "end_time": "2024-02-15T04:09:49.335085500Z",
     "start_time": "2024-02-15T04:09:49.333084400Z"
    },
    "collapsed": false
   },
   "outputs": [],
   "source": [
    "# Now let's see initialize the fourheap\n",
    "\n",
    "fh = FourHeap() "
   ]
  },
  {
   "cell_type": "code",
   "execution_count": 4,
   "id": "361113b24009b04e",
   "metadata": {
    "ExecuteTime": {
     "end_time": "2024-02-15T04:09:49.582092300Z",
     "start_time": "2024-02-15T04:09:49.577092900Z"
    },
    "collapsed": false
   },
   "outputs": [
    {
     "data": {
      "text/plain": [
       "{1: Order(price=12, order_type=1, quantity=12, agent_id=1, time=1, order_id=1, asset_id=1)}"
      ]
     },
     "execution_count": 4,
     "metadata": {},
     "output_type": "execute_result"
    }
   ],
   "source": [
    "# Adding an order\n",
    "\n",
    "fh.insert(order1)\n",
    "fh.buy_unmatched.order_dict"
   ]
  },
  {
   "cell_type": "code",
   "execution_count": 5,
   "id": "ebe4a5b482eb8d70",
   "metadata": {
    "ExecuteTime": {
     "end_time": "2024-02-15T04:09:49.844940900Z",
     "start_time": "2024-02-15T04:09:49.791936400Z"
    },
    "collapsed": false
   },
   "outputs": [
    {
     "data": {
      "text/plain": [
       "{2: Order(price=32, order_type=-1, quantity=22, agent_id=1, time=1, order_id=2, asset_id=1)}"
      ]
     },
     "execution_count": 5,
     "metadata": {},
     "output_type": "execute_result"
    }
   ],
   "source": [
    "# Let's add in a sell order\n",
    "\n",
    "fh.insert(order2)\n",
    "\n",
    "# Because it's price is higher than the buy price this won't cause a match\n",
    "\n",
    "fh.sell_unmatched.order_dict"
   ]
  },
  {
   "cell_type": "code",
   "execution_count": 6,
   "id": "5b93a62e48ad867e",
   "metadata": {
    "ExecuteTime": {
     "end_time": "2024-02-15T04:09:50.031942Z",
     "start_time": "2024-02-15T04:09:49.985942100Z"
    },
    "collapsed": false
   },
   "outputs": [
    {
     "name": "stdout",
     "output_type": "stream",
     "text": [
      "{3: Order(price=7, order_type=-1, quantity=7, agent_id=1, time=1, order_id=3, asset_id=1)}\n",
      "{1: Order(price=12, order_type=1, quantity=5, agent_id=1, time=1, order_id=1, asset_id=1)}\n",
      "{1: Order(price=12, order_type=1, quantity=7, agent_id=1, time=1, order_id=1, asset_id=1)}\n"
     ]
    }
   ],
   "source": [
    "# Let's add in another sell order\n",
    "\n",
    "fh.insert(order3)\n",
    "\n",
    "# Because it's price is lower this will match\n",
    "\n",
    "print(fh.sell_matched.order_dict)\n",
    "\n",
    "# Since order 1 is larger some will be matched and some will be unmatched\n",
    "print(fh.buy_unmatched.order_dict)\n",
    "print(fh.buy_matched.order_dict)\n"
   ]
  },
  {
   "cell_type": "code",
   "execution_count": 7,
   "id": "ae2bfd9555f5e434",
   "metadata": {
    "ExecuteTime": {
     "end_time": "2024-02-15T04:09:50.303405Z",
     "start_time": "2024-02-15T04:09:50.253396300Z"
    },
    "collapsed": false
   },
   "outputs": [
    {
     "name": "stdout",
     "output_type": "stream",
     "text": [
      "{}\n",
      "{1: Order(price=12, order_type=1, quantity=12, agent_id=1, time=1, order_id=1, asset_id=1)}\n",
      "{}\n"
     ]
    }
   ],
   "source": [
    "# We can remove an order too\n",
    "\n",
    "fh.remove(3)\n",
    "\n",
    "# This will unmatch the buy order entirely\n",
    "\n",
    "print(fh.sell_matched.order_dict)\n",
    "print(fh.buy_unmatched.order_dict)\n",
    "print(fh.buy_matched.order_dict)\n"
   ]
  },
  {
   "cell_type": "code",
   "execution_count": 8,
   "id": "3ea852481fc4c008",
   "metadata": {
    "ExecuteTime": {
     "end_time": "2024-02-15T04:09:50.524404700Z",
     "start_time": "2024-02-15T04:09:50.482405500Z"
    },
    "collapsed": false
   },
   "outputs": [
    {
     "name": "stdout",
     "output_type": "stream",
     "text": [
      "{3: Order(price=7, order_type=-1, quantity=7, agent_id=1, time=1, order_id=3, asset_id=1), 4: Order(price=9, order_type=-1, quantity=5, agent_id=1, time=1, order_id=4, asset_id=1)}\n",
      "{2: Order(price=32, order_type=-1, quantity=22, agent_id=1, time=1, order_id=2, asset_id=1), 4: Order(price=9, order_type=-1, quantity=3, agent_id=1, time=1, order_id=4, asset_id=1)}\n",
      "{1: Order(price=12, order_type=1, quantity=12, agent_id=1, time=1, order_id=1, asset_id=1)}\n"
     ]
    }
   ],
   "source": [
    "# We'll add in 3 and 4\n",
    "\n",
    "fh.insert(order3)\n",
    "fh.insert(order4)\n",
    "\n",
    "print(fh.sell_matched.order_dict)\n",
    "print(fh.sell_unmatched.order_dict)\n",
    "print(fh.buy_matched.order_dict)\n"
   ]
  },
  {
   "cell_type": "code",
   "execution_count": 9,
   "id": "a13c3435bf208848",
   "metadata": {
    "ExecuteTime": {
     "end_time": "2024-02-15T04:09:50.906926200Z",
     "start_time": "2024-02-15T04:09:50.864927100Z"
    },
    "collapsed": false
   },
   "outputs": [
    {
     "name": "stdout",
     "output_type": "stream",
     "text": [
      "{4: Order(price=9, order_type=-1, quantity=8, agent_id=1, time=1, order_id=4, asset_id=1)}\n",
      "{2: Order(price=32, order_type=-1, quantity=22, agent_id=1, time=1, order_id=2, asset_id=1)}\n",
      "{1: Order(price=12, order_type=1, quantity=8, agent_id=1, time=1, order_id=1, asset_id=1)}\n",
      "{1: Order(price=12, order_type=1, quantity=4, agent_id=1, time=1, order_id=1, asset_id=1)}\n"
     ]
    }
   ],
   "source": [
    "# Now we'll remove order 3\n",
    "\n",
    "fh.remove(3)\n",
    "\n",
    "print(fh.sell_matched.order_dict)\n",
    "print(fh.sell_unmatched.order_dict)\n",
    "print(fh.buy_matched.order_dict)\n",
    "print(fh.buy_unmatched.order_dict)\n"
   ]
  },
  {
   "cell_type": "code",
   "execution_count": 11,
   "id": "bcd1634ff00877e8",
   "metadata": {
    "ExecuteTime": {
     "end_time": "2024-02-15T04:11:22.295305500Z",
     "start_time": "2024-02-15T04:11:22.248306800Z"
    },
    "collapsed": false
   },
   "outputs": [
    {
     "name": "stdout",
     "output_type": "stream",
     "text": [
      "{1: Order(price=12, order_type=-1, quantity=12, agent_id=1, time=1, order_id=1, asset_id=1)}\n",
      "{}\n",
      "{4: Order(price=24, order_type=1, quantity=8, agent_id=1, time=1, order_id=4, asset_id=1), 3: Order(price=15, order_type=1, quantity=4, agent_id=1, time=1, order_id=3, asset_id=1)}\n",
      "{2: Order(price=8, order_type=1, quantity=22, agent_id=1, time=1, order_id=2, asset_id=1), 3: Order(price=15, order_type=1, quantity=3, agent_id=1, time=1, order_id=3, asset_id=1)}\n"
     ]
    }
   ],
   "source": [
    "# We'll do it in reverse just to see how the sell side works\n",
    "fh = FourHeap()\n",
    "\n",
    "order1 = Order(price=12, order_type=SELL, quantity=12, time=1, agent_id=1, order_id=1)\n",
    "order2 = Order(price=8, order_type=BUY, quantity=22, time=1, agent_id=1, order_id=2)\n",
    "order3 = Order(price=15, order_type=BUY, quantity=7, time=1, agent_id=1, order_id=3)\n",
    "order4 = Order(price=24, order_type=BUY, quantity=8, time=1, agent_id=1, order_id=4)\n",
    "\n",
    "fh.insert(order1)\n",
    "fh.insert(order2)\n",
    "fh.insert(order3)\n",
    "fh.insert(order4)\n",
    "\n",
    "print(fh.sell_matched.order_dict)\n",
    "print(fh.sell_unmatched.order_dict)\n",
    "print(fh.buy_matched.order_dict)\n",
    "print(fh.buy_unmatched.order_dict)\n"
   ]
  },
  {
   "cell_type": "code",
   "execution_count": 12,
   "id": "fe3c9bd1cdefe8d8",
   "metadata": {
    "ExecuteTime": {
     "end_time": "2024-02-15T04:11:56.266000300Z",
     "start_time": "2024-02-15T04:11:56.220995Z"
    },
    "collapsed": false
   },
   "outputs": [
    {
     "name": "stdout",
     "output_type": "stream",
     "text": [
      "{1: Order(price=12, order_type=-1, quantity=7, agent_id=1, time=1, order_id=1, asset_id=1)}\n",
      "{1: Order(price=12, order_type=-1, quantity=5, agent_id=1, time=1, order_id=1, asset_id=1)}\n",
      "{3: Order(price=15, order_type=1, quantity=7, agent_id=1, time=1, order_id=3, asset_id=1)}\n",
      "{2: Order(price=8, order_type=1, quantity=22, agent_id=1, time=1, order_id=2, asset_id=1)}\n"
     ]
    }
   ],
   "source": [
    "fh.remove(4)\n",
    "\n",
    "print(fh.sell_matched.order_dict)\n",
    "print(fh.sell_unmatched.order_dict)\n",
    "print(fh.buy_matched.order_dict)\n",
    "print(fh.buy_unmatched.order_dict)\n"
   ]
  },
  {
   "cell_type": "code",
   "execution_count": 7,
   "id": "d49d7335bdfc4f4d",
   "metadata": {
    "ExecuteTime": {
     "end_time": "2024-02-15T04:35:44.877998600Z",
     "start_time": "2024-02-15T04:35:44.870998500Z"
    },
    "collapsed": false
   },
   "outputs": [],
   "source": [
    "from fundamental.lazy_mean_reverting import LazyGaussianMeanReverting\n",
    "\n",
    "# Let's look at the fundamental next\n",
    "\n",
    "f = LazyGaussianMeanReverting(final_time=100, mean=12, r=.2, shock_var=.01)"
   ]
  },
  {
   "cell_type": "code",
   "execution_count": 8,
   "id": "cc2bd7a5d3a7ad3f",
   "metadata": {
    "ExecuteTime": {
     "end_time": "2024-02-15T04:35:46.433997800Z",
     "start_time": "2024-02-15T04:35:46.430998500Z"
    },
    "collapsed": false
   },
   "outputs": [
    {
     "data": {
      "text/plain": [
       "{0: 12}"
      ]
     },
     "execution_count": 8,
     "metadata": {},
     "output_type": "execute_result"
    }
   ],
   "source": [
    "# The fundamental starts at the mean\n",
    "\n",
    "f.fundamental_values"
   ]
  },
  {
   "cell_type": "code",
   "execution_count": 9,
   "id": "b902e6769c663d52",
   "metadata": {
    "ExecuteTime": {
     "end_time": "2024-02-15T04:35:46.900183400Z",
     "start_time": "2024-02-15T04:35:46.897184600Z"
    },
    "collapsed": false
   },
   "outputs": [
    {
     "name": "stdout",
     "output_type": "stream",
     "text": [
      "{0: 12, 12: 11.811386108398438}\n"
     ]
    }
   ],
   "source": [
    "# It's only evaluated at times it's called\n",
    "\n",
    "f.get_value_at(12)\n",
    "\n",
    "print(f.fundamental_values)"
   ]
  },
  {
   "cell_type": "code",
   "execution_count": 10,
   "id": "6bdef9c2a15fd033",
   "metadata": {
    "ExecuteTime": {
     "end_time": "2024-02-15T04:35:47.745318600Z",
     "start_time": "2024-02-15T04:35:47.742319600Z"
    },
    "collapsed": false
   },
   "outputs": [
    {
     "name": "stdout",
     "output_type": "stream",
     "text": [
      "{0: 12, 12: 11.811386108398438, 100: 11.953866004943848}\n"
     ]
    }
   ],
   "source": [
    "# When the simulation ends you find the value at the final time step\n",
    "\n",
    "f.get_final_fundamental()\n",
    "\n",
    "print(f.fundamental_values)"
   ]
  },
  {
   "cell_type": "code",
   "execution_count": null,
   "id": "ba5a64455c821680",
   "metadata": {
    "collapsed": false
   },
   "outputs": [],
   "source": []
  }
 ],
 "metadata": {
  "kernelspec": {
   "display_name": "Python 3",
   "language": "python",
   "name": "python3"
  },
  "language_info": {
   "codemirror_mode": {
    "name": "ipython",
    "version": 2
   },
   "file_extension": ".py",
   "mimetype": "text/x-python",
   "name": "python",
   "nbconvert_exporter": "python",
   "pygments_lexer": "ipython2",
   "version": "3.9.12"
  }
 },
 "nbformat": 4,
 "nbformat_minor": 5
}
